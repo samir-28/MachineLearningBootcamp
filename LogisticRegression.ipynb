{
 "cells": [
  {
   "cell_type": "code",
   "execution_count": 1,
   "metadata": {},
   "outputs": [
    {
     "name": "stdout",
     "output_type": "stream",
     "text": [
      "1.0\n"
     ]
    }
   ],
   "source": [
    "from sklearn.linear_model import LogisticRegression\n",
    "from sklearn.model_selection import train_test_split\n",
    "from sklearn.metrics import accuracy_score\n",
    "import numpy as  np\n",
    "\n",
    "x=np.array([[44,3900],[32,120000],[38,5000],[32,125000],[52,21000],[53,10400],[39,42000],[38,61000],[36,50000],[35,150000]])\n",
    "y=np.array([0,1,0,1,1,1,0,0,0,1])\n",
    "\n",
    "xtrain,xtest,ytrain,ytest=train_test_split(x,y,test_size=0.2)\n",
    "\n",
    "model =LogisticRegression()\n",
    "model.fit(xtrain,ytrain)\n",
    "y_predc=model.predict(xtest)\n",
    "\n",
    "accuracy=accuracy_score(ytest,y_predc)\n",
    "print(accuracy)"
   ]
  },
  {
   "cell_type": "code",
   "execution_count": 10,
   "metadata": {},
   "outputs": [
    {
     "name": "stdout",
     "output_type": "stream",
     "text": [
      "1\n"
     ]
    }
   ],
   "source": [
    "xnew=np.array([[40,200000]])\n",
    "new=model.predict(xnew)\n",
    "print(new[0])"
   ]
  },
  {
   "cell_type": "code",
   "execution_count": 12,
   "metadata": {},
   "outputs": [
    {
     "name": "stdout",
     "output_type": "stream",
     "text": [
      "Prediction for input [    40 200000]: 1\n",
      "Accuracy of the model: 1.00\n"
     ]
    }
   ],
   "source": [
    "from sklearn.linear_model import LogisticRegression\n",
    "from sklearn.model_selection import train_test_split\n",
    "from sklearn.metrics import accuracy_score\n",
    "import numpy as np\n",
    "\n",
    "# Input features: age and salary\n",
    "x = np.array([[44, 3900],\n",
    "              [32, 120000],\n",
    "              [38, 5000],\n",
    "              [32, 125000],\n",
    "              [52, 21000],\n",
    "              [53, 10400],\n",
    "              [39, 42000],\n",
    "              [38, 61000],\n",
    "              [36, 50000],\n",
    "              [35, 150000]])\n",
    "\n",
    "# Target labels (0 or 1)\n",
    "y = np.array([0, 1, 0, 1, 1, 1, 0, 0, 0, 1])\n",
    "\n",
    "# Split the dataset into training and testing sets (80% train, 20% test)\n",
    "xtrain, xtest, ytrain, ytest = train_test_split(x, y, test_size=0.2, random_state=42)\n",
    "\n",
    "# Create and train the logistic regression model\n",
    "model = LogisticRegression()\n",
    "model.fit(xtrain, ytrain)\n",
    "\n",
    "# New data point for prediction\n",
    "xnew = np.array([[40, 200000]])\n",
    "new_prediction = model.predict(xnew)\n",
    "\n",
    "# Print the prediction for the new data point\n",
    "print(f\"Prediction for input {xnew[0]}: {new_prediction[0]}\")\n",
    "\n",
    "# Predict on the test set\n",
    "y_pred = model.predict(xtest)\n",
    "\n",
    "# Calculate accuracy of the model\n",
    "accuracy = accuracy_score(ytest, y_pred)\n",
    "print(f\"Accuracy of the model: {accuracy:.2f}\")\n"
   ]
  },
  {
   "cell_type": "code",
   "execution_count": null,
   "metadata": {},
   "outputs": [],
   "source": [
    "    "
   ]
  },
  {
   "cell_type": "code",
   "execution_count": null,
   "metadata": {},
   "outputs": [],
   "source": []
  },
  {
   "cell_type": "code",
   "execution_count": null,
   "metadata": {},
   "outputs": [],
   "source": []
  },
  {
   "cell_type": "code",
   "execution_count": null,
   "metadata": {},
   "outputs": [],
   "source": []
  },
  {
   "cell_type": "code",
   "execution_count": null,
   "metadata": {},
   "outputs": [],
   "source": []
  },
  {
   "cell_type": "code",
   "execution_count": null,
   "metadata": {},
   "outputs": [],
   "source": []
  },
  {
   "cell_type": "code",
   "execution_count": null,
   "metadata": {},
   "outputs": [],
   "source": []
  }
 ],
 "metadata": {
  "kernelspec": {
   "display_name": "base",
   "language": "python",
   "name": "python3"
  },
  "language_info": {
   "codemirror_mode": {
    "name": "ipython",
    "version": 3
   },
   "file_extension": ".py",
   "mimetype": "text/x-python",
   "name": "python",
   "nbconvert_exporter": "python",
   "pygments_lexer": "ipython3",
   "version": "3.12.4"
  }
 },
 "nbformat": 4,
 "nbformat_minor": 2
}
