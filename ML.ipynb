{
 "cells": [
  {
   "cell_type": "code",
   "execution_count": 1,
   "metadata": {},
   "outputs": [],
   "source": [
    "# ML without using library\n",
    "import numpy as np"
   ]
  },
  {
   "cell_type": "code",
   "execution_count": 11,
   "metadata": {},
   "outputs": [],
   "source": [
    "x = np.array([2, 4, 6, 8, 10])\n",
    "y = np.array([6, 5, 4, 2, -1])\n",
    "n = len(x)"
   ]
  },
  {
   "cell_type": "code",
   "execution_count": 12,
   "metadata": {},
   "outputs": [
    {
     "name": "stdout",
     "output_type": "stream",
     "text": [
      "b0 8.29999999999951\n",
      "b1 -0.8499999999999331\n"
     ]
    }
   ],
   "source": [
    "b0=0 \n",
    "b1=0\n",
    "alpha=0.01\n",
    "\n",
    "for i in range(100000):\n",
    "    y_predct=b0 + b1*x\n",
    "    \n",
    "    error= y- y_predct\n",
    "    \n",
    "    b0=b0 + alpha/n * np.sum(error)\n",
    "    b1=b1 + alpha/n * np.sum(error * x)\n",
    "\n",
    "print('b0',b0)\n",
    "print('b1',b1)"
   ]
  },
  {
   "cell_type": "code",
   "execution_count": 17,
   "metadata": {},
   "outputs": [
    {
     "name": "stdout",
     "output_type": "stream",
     "text": [
      "-0.8500000000000002\n",
      "8.3\n"
     ]
    }
   ],
   "source": [
    "# Machine learning using sklearn library\n",
    "\n",
    "from sklearn.linear_model import LinearRegression\n",
    "\n",
    "x = np.array([2, 4, 6, 8, 10]).reshape(5,1)\n",
    "y = np.array([6, 5, 4, 2, -1])\n",
    "\n",
    "model=LinearRegression()\n",
    "model.fit(x,y)\n",
    "\n",
    "print(model.coef_[0])\n",
    "print(model.intercept_)\n",
    "\n",
    "\n"
   ]
  }
 ],
 "metadata": {
  "kernelspec": {
   "display_name": "base",
   "language": "python",
   "name": "python3"
  },
  "language_info": {
   "codemirror_mode": {
    "name": "ipython",
    "version": 3
   },
   "file_extension": ".py",
   "mimetype": "text/x-python",
   "name": "python",
   "nbconvert_exporter": "python",
   "pygments_lexer": "ipython3",
   "version": "3.12.4"
  }
 },
 "nbformat": 4,
 "nbformat_minor": 2
}
